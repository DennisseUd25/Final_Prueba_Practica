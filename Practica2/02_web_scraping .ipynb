{
 "cells": [
  {
   "cell_type": "markdown",
   "metadata": {},
   "source": [
    "# Web Scraping with Beautiful Soup\n",
    "\n",
    "* * * \n",
    "\n",
    "### Iconos utilizados en este notebook\n",
    "🔔 **Pregunta**: Una pregunta rápida para ayudarte a entender lo que está pasando.<br>\n",
    "🥊 **Desafío**: Ejercicio interactivo. Los trabajaremos en el taller.<br>\n",
    "⚠️ **Advertencia**: Aviso sobre cosas complicadas o errores comunes.<br>\n",
    "💡 **Consejo**: Cómo hacer algo un poco más eficiente o eficaz.<br>\n",
    "🎬 **Demo**: Mostrar algo más avanzado - ¡Para que sepas para qué se puede usar Python!<br>\n",
    "\n",
    "### Objetivos de aprendizaje\n",
    "1. [Reflexión: Extraer o no extraer](#when)\n",
    "2. [Extracción y análisis de HTML](#extract)\n",
    "3. [Raspado de la Asamblea General de Illinois](#scrape)"
   ]
  },
  {
   "cell_type": "markdown",
   "metadata": {},
   "source": [
    "<a id='when'></a>\n",
    "\n",
    "# Extraer o no extraer\n",
    "\n",
    "Cuando queremos acceder a datos de la web, primero tenemos que asegurarnos de si el sitio web que nos interesa ofrece una API web. Plataformas como Twitter, Reddit y el New York Times ofrecen APIs. **Consulta el taller [Python Web APIs](https://github.com/dlab-berkeley/Python-Web-APIs) de D-Lab si quieres aprender a utilizar APIs.**\n",
    "\n",
    "Sin embargo, a menudo hay casos en los que no existe una API Web. En estos casos, puede que tengamos que recurrir al web scraping, donde extraemos el HTML subyacente de una página web, y obtenemos directamente la información que queremos. Hay varios paquetes en Python que podemos utilizar para realizar estas tareas. Nos centraremos en dos paquetes: Requests y Beautiful Soup.\n",
    "\n",
    "Nuestro caso de estudio será obtener información sobre los [senadores estatales de Illinois](http://www.ilga.gov/senate), así como la [lista de proyectos de ley](http://www.ilga.gov/senate/SenatorBills.asp?MemberID=1911&GA=98&Primary=True) que cada senador ha patrocinado. Antes de empezar, echa un vistazo a estos sitios web para ver su estructura."
   ]
  },
  {
   "cell_type": "markdown",
   "metadata": {},
   "source": [
    "## Instalación\n",
    "\n",
    "Utilizaremos dos paquetes principales: [Requests](http://docs.python-requests.org/en/latest/user/quickstart/) and [Beautiful Soup](http://www.crummy.com/software/BeautifulSoup/bs4/doc/). Instala estos paquetes, si aún no lo has hecho:"
   ]
  },
  {
   "cell_type": "code",
   "execution_count": 17,
   "metadata": {},
   "outputs": [
    {
     "name": "stdout",
     "output_type": "stream",
     "text": [
      "Requirement already satisfied: requests in c:\\users\\owner\\anaconda3\\lib\\site-packages (2.32.3)\n",
      "Requirement already satisfied: charset-normalizer<4,>=2 in c:\\users\\owner\\anaconda3\\lib\\site-packages (from requests) (3.3.2)\n",
      "Requirement already satisfied: idna<4,>=2.5 in c:\\users\\owner\\anaconda3\\lib\\site-packages (from requests) (3.7)\n",
      "Requirement already satisfied: urllib3<3,>=1.21.1 in c:\\users\\owner\\anaconda3\\lib\\site-packages (from requests) (2.2.3)\n",
      "Requirement already satisfied: certifi>=2017.4.17 in c:\\users\\owner\\anaconda3\\lib\\site-packages (from requests) (2025.1.31)\n",
      "Note: you may need to restart the kernel to use updated packages.\n"
     ]
    }
   ],
   "source": [
    "pip install requests"
   ]
  },
  {
   "cell_type": "code",
   "execution_count": 19,
   "metadata": {},
   "outputs": [
    {
     "name": "stdout",
     "output_type": "stream",
     "text": [
      "Requirement already satisfied: beautifulsoup4 in c:\\users\\owner\\anaconda3\\lib\\site-packages (4.12.3)\n",
      "Requirement already satisfied: soupsieve>1.2 in c:\\users\\owner\\anaconda3\\lib\\site-packages (from beautifulsoup4) (2.5)\n",
      "Note: you may need to restart the kernel to use updated packages.\n"
     ]
    }
   ],
   "source": [
    "pip install beautifulsoup4"
   ]
  },
  {
   "cell_type": "markdown",
   "metadata": {},
   "source": [
    "También instalaremos el paquete `lxml`, que ayuda a soportar parte del análisis sintáctico que realiza Beautiful Soup:"
   ]
  },
  {
   "cell_type": "code",
   "execution_count": 23,
   "metadata": {},
   "outputs": [
    {
     "name": "stdout",
     "output_type": "stream",
     "text": [
      "Requirement already satisfied: lxml in c:\\users\\owner\\anaconda3\\lib\\site-packages (5.2.1)\n",
      "Note: you may need to restart the kernel to use updated packages.\n"
     ]
    }
   ],
   "source": [
    "pip install lxml"
   ]
  },
  {
   "cell_type": "code",
   "execution_count": 28,
   "metadata": {
    "tags": []
   },
   "outputs": [],
   "source": [
    "# Importar las bibliotecas necesarias\n",
    "from bs4 import BeautifulSoup\n",
    "from datetime import datetime\n",
    "import requests\n",
    "import time"
   ]
  },
  {
   "cell_type": "markdown",
   "metadata": {},
   "source": [
    "<a id='extract'></a>\n",
    "\n",
    "# Extracción y análisis de HTML \n",
    "\n",
    "Para extraer y analizar HTML con éxito, seguiremos los 4 pasos siguientes:\n",
    "1. Realizar una petición GET\n",
    "2. Parsear la página con Beautiful Soup\n",
    "3. Buscar elementos HTML\n",
    "4. Obtener atributos y texto de estos elementos"
   ]
  },
  {
   "cell_type": "markdown",
   "metadata": {},
   "source": [
    "## Paso 1: Realizar una petición GET para obtener el HTML de una página\n",
    "\n",
    "Podemos utilizar la biblioteca Requests para:\n",
    "\n",
    "1. Hacer una petición GET a la página, y\n",
    "2. Leer el código HTML de la página web.\n",
    "\n",
    "El proceso de hacer una petición y obtener un resultado se parece al del flujo de trabajo de la Web API. Ahora, sin embargo, estamos haciendo una solicitud directamente a la página web, y vamos a tener que analizar el código HTML nosotros mismos. Esto contrasta con los datos que se nos proporcionan organizados en una salida `JSON` o `XML` más directa."
   ]
  },
  {
   "cell_type": "code",
   "execution_count": 33,
   "metadata": {
    "tags": []
   },
   "outputs": [
    {
     "name": "stdout",
     "output_type": "stream",
     "text": [
      "<html lang=\"en\"> \n",
      "<!-- Trigger/Open The Modal -->\n",
      "<div style=\"position: fixed; z-index: 999; top: 5; left: 600; background-color: navy; display: block\">\n",
      "<button id=\"myBtn\" style=\"color: white; background-color: navy; display: block\">Translate Website</button></div>\n",
      "<!-- The Modal -->\n",
      "<div id=\"myModal\" class=\"modal\" style=\"display: none\">\n",
      "  <!-- Modal content -->\n",
      "  <div class=\"modal-content\">\n",
      "      <div class=\"modal-header\"><h3>\n",
      "    <span class=\"close\">&times;</span></h3></div>    \n",
      "    <p>The Illinois General Assembly offers the Google Translate service for visitor convenience. In no way should it be considered accurate as to the translation of any content herein.</p>\n",
      "    <p>Visitors of the Illinois General Assembly website are encouraged to use other translation services available on the internet.</p>\n",
      "    <p>The English language version is always the official and authoritative version of this website.</p>\n",
      "    <p>NOTE: To return to the original English language version, se\n"
     ]
    }
   ],
   "source": [
    "# Realizar una solicitud GET\n",
    "req = requests.get('http://www.ilga.gov/senate/default.asp')\n",
    "# Leer el contenido de la respuesta del servidor\n",
    "src = req.text\n",
    "# Ver algunos resultados\n",
    "print(src[:1000])"
   ]
  },
  {
   "cell_type": "markdown",
   "metadata": {},
   "source": [
    "## Paso 2: Analizar la página con Beautiful Soup\n",
    "\n",
    "Ahora, usamos la función `BeautifulSoup` para parsear la respuesta en un árbol HTML. Esto devuelve un objeto (llamado **objeto sopa**) que contiene todo el HTML del documento original.\n",
    "\n",
    "Si te encuentras con un error sobre una biblioteca de análisis, asegúrate de que has instalado el paquete `lxml` para proporcionar a Beautiful Soup las herramientas de análisis necesarias."
   ]
  },
  {
   "cell_type": "code",
   "execution_count": 54,
   "metadata": {},
   "outputs": [
    {
     "name": "stdout",
     "output_type": "stream",
     "text": [
      "<html lang=\"en\">\n",
      " <!-- Trigger/Open The Modal -->\n",
      " <body>\n",
      "  <div style=\"position: fixed; z-index: 999; top: 5; left: 600; background-color: navy; display: block\">\n",
      "   <button id=\"myBtn\" style=\"color: white; background-color: navy; display: block\">\n",
      "    Translate Website\n",
      "   </button>\n",
      "  </div>\n",
      "  <!-- The Modal -->\n",
      "  <div class=\"modal\" id=\"myModal\" style=\"display: none\">\n",
      "   <!-- Modal content -->\n",
      "   <div class=\"modal-content\">\n",
      "    <div class=\"modal-header\">\n",
      "     <h3>\n",
      "      <span class=\"close\">\n",
      "       ×\n",
      "      </span>\n",
      "     </h3>\n",
      "    </div>\n",
      "    <p>\n",
      "     The Illinois General Assembly offers the Google Translate service for visitor convenience. In no way should it be considered accurate as to the translation of any content herein.\n",
      "    </p>\n",
      "    <p>\n",
      "     Visitors of the Illinois General Assembly website are encouraged to use other translation services available on the internet.\n",
      "    </p>\n",
      "    <p>\n",
      "     The English language version is always the official and authoritative version of this website.\n",
      "   \n"
     ]
    }
   ],
   "source": [
    "# Parsear la respuesta en un árbol HTML\n",
    "soup = BeautifulSoup(src, 'lxml')\n",
    "# Muestra resultado\n",
    "print(soup.prettify()[:1000])"
   ]
  },
  {
   "cell_type": "markdown",
   "metadata": {},
   "source": [
    "La salida es bastante similar a la anterior, pero ahora está organizada en un objeto `soup` que nos permite recorrer la página más fácilmente."
   ]
  },
  {
   "cell_type": "markdown",
   "metadata": {},
   "source": [
    "## Paso 3: Buscar elementos HTML\n",
    "\n",
    "Beautiful Soup tiene una serie de funciones para encontrar componentes útiles en una página. Beautiful Soup te permite encontrar elementos por su:\n",
    "\n",
    "1. Etiquetas HTML\n",
    "2. Atributos HTML\n",
    "3. Selectores CSS\n",
    "\n",
    "Busquemos primero **etiquetas HTML**. \n",
    "\n",
    "La función `find_all` busca en el árbol `soup` para encontrar todos los elementos con una etiqueta HTML en particular, y devuelve todos esos elementos.\n",
    "\n",
    "¿Qué hace el siguiente ejemplo?"
   ]
  },
  {
   "cell_type": "code",
   "execution_count": 41,
   "metadata": {},
   "outputs": [
    {
     "name": "stdout",
     "output_type": "stream",
     "text": [
      "[<a class=\"goog-logo-link\" href=\"https://translate.google.com\" target=\"_blank\"><img alt=\"Google Translate\" height=\"14\" src=\"https://www.gstatic.com/images/branding/googlelogo/1x/googlelogo_color_42x16dp.png\" style=\"padding-right: 3px;\" width=\"37\"/>Translate</a>, <a href=\"/default.asp\"><img alt=\"Illinois General Assembly\" border=\"0\" height=\"49\" src=\"/images/logo_sm.gif\" width=\"462\"/></a>, <a class=\"mainmenu\" href=\"/\">Home</a>, <a class=\"mainmenu\" href=\"/legislation/\" onblur=\"HM_f_PopDown('elMenu1')\" onfocus=\"HM_f_PopUp('elMenu1',event)\" onmouseout=\"HM_f_PopDown('elMenu1')\" onmouseover=\"HM_f_PopUp('elMenu1',event)\">Legislation &amp; Laws</a>, <a class=\"mainmenu\" href=\"/senate/\" onblur=\"HM_f_PopDown('elMenu3')\" onfocus=\"HM_f_PopUp('elMenu3',event)\" onmouseout=\"HM_f_PopDown('elMenu3')\" onmouseover=\"HM_f_PopUp('elMenu3',event)\">Senate</a>, <a class=\"mainmenu\" href=\"/house/\" onblur=\"HM_f_PopDown('elMenu2')\" onfocus=\"HM_f_PopUp('elMenu2',event)\" onmouseout=\"HM_f_PopDown('elMenu2')\" onmouseover=\"HM_f_PopUp('elMenu2',event)\">House</a>, <a class=\"mainmenu\" href=\"/mylegislation/\" onblur=\"HM_f_PopDown('elMenu4')\" onfocus=\"HM_f_PopUp('elMenu4',event)\" onmouseout=\"HM_f_PopDown('elMenu4')\" onmouseover=\"HM_f_PopUp('elMenu4',event)\">My Legislation</a>, <a class=\"mainmenu\" href=\"/sitemap.asp\">Site Map</a>, <a class=\"sidemenu\" href=\"/senate/default.asp\">  Members  </a>, <a class=\"sidemenu\" href=\"/senate/committees/default.asp\">  Committees  </a>]\n"
     ]
    }
   ],
   "source": [
    "# Buscar todos los elementos con una determinada etiqueta\n",
    "a_tags = soup.find_all(\"a\")\n",
    "print(a_tags[:10])"
   ]
  },
  {
   "cell_type": "markdown",
   "metadata": {},
   "source": [
    "Como `find_all()` es el método más popular de la API de búsqueda de Beautiful Soup, puedes usar un atajo para él. Si tratas el objeto BeautifulSoup como si fuera una función, entonces es lo mismo que llamar a `find_all()` en ese objeto. \n",
    "\n",
    "Estas dos líneas de código son equivalentes:"
   ]
  },
  {
   "cell_type": "code",
   "execution_count": 44,
   "metadata": {
    "tags": []
   },
   "outputs": [
    {
     "name": "stdout",
     "output_type": "stream",
     "text": [
      "<a class=\"goog-logo-link\" href=\"https://translate.google.com\" target=\"_blank\"><img alt=\"Google Translate\" height=\"14\" src=\"https://www.gstatic.com/images/branding/googlelogo/1x/googlelogo_color_42x16dp.png\" style=\"padding-right: 3px;\" width=\"37\"/>Translate</a>\n",
      "<a class=\"goog-logo-link\" href=\"https://translate.google.com\" target=\"_blank\"><img alt=\"Google Translate\" height=\"14\" src=\"https://www.gstatic.com/images/branding/googlelogo/1x/googlelogo_color_42x16dp.png\" style=\"padding-right: 3px;\" width=\"37\"/>Translate</a>\n"
     ]
    }
   ],
   "source": [
    "a_tags = soup.find_all(\"a\")\n",
    "a_tags_alt = soup(\"a\")\n",
    "print(a_tags[0])\n",
    "print(a_tags_alt[0])"
   ]
  },
  {
   "cell_type": "markdown",
   "metadata": {},
   "source": [
    "¿Cuántos enlaces hemos obtenido?"
   ]
  },
  {
   "cell_type": "code",
   "execution_count": 46,
   "metadata": {},
   "outputs": [
    {
     "name": "stdout",
     "output_type": "stream",
     "text": [
      "213\n"
     ]
    }
   ],
   "source": [
    "print(len(a_tags))"
   ]
  },
  {
   "cell_type": "markdown",
   "metadata": {},
   "source": [
    "Son muchos. Muchos elementos de una página tendrán la misma etiqueta HTML. Por ejemplo, si buscas todo lo que tenga la etiqueta `a`, es probable que obtengas más resultados, muchos de los cuales puede que no te interesen. Recuerda que la etiqueta `a` define un hipervínculo, por lo que normalmente encontrarás muchos en cualquier página.\n",
    "\n",
    "¿Y si quisiéramos buscar etiquetas HTML con determinados atributos, como clases CSS concretas? \n",
    "\n",
    "Podemos hacerlo añadiendo un argumento adicional a `find_all`. En el ejemplo siguiente, buscamos todas las etiquetas `a` y filtramos las que tienen `class_=«sidemenu»`."
   ]
  },
  {
   "cell_type": "code",
   "execution_count": 49,
   "metadata": {
    "tags": []
   },
   "outputs": [
    {
     "data": {
      "text/plain": [
       "[<a class=\"sidemenu\" href=\"/senate/default.asp\">  Members  </a>,\n",
       " <a class=\"sidemenu\" href=\"/senate/committees/default.asp\">  Committees  </a>,\n",
       " <a class=\"sidemenu\" href=\"/senate/schedules/default.asp\">  Schedules  </a>,\n",
       " <a class=\"sidemenu\" href=\"/senate/journals/default.asp\">  Journals  </a>,\n",
       " <a class=\"sidemenu\" href=\"/senate/transcripts/default.asp\">  Transcripts  </a>]"
      ]
     },
     "execution_count": 49,
     "metadata": {},
     "output_type": "execute_result"
    }
   ],
   "source": [
    "# Obtener sólo las etiquetas 'a' en la clase 'sidemenu\n",
    "side_menus = soup(\"a\", class_=\"sidemenu\")\n",
    "side_menus[:5]"
   ]
  },
  {
   "cell_type": "markdown",
   "metadata": {},
   "source": [
    "Una forma más eficiente de buscar elementos en una web es mediante un **selector CSS**. Para ello tenemos que utilizar un método diferente llamado `select()`. Basta con pasar una cadena en `.select()` para obtener todos los elementos con esa cadena como selector CSS válido.\n",
    "\n",
    "En el ejemplo anterior, podemos utilizar `«a.sidemenu»` como un selector CSS, que devuelve todas las etiquetas `a` con la clase `sidemenu`."
   ]
  },
  {
   "cell_type": "code",
   "execution_count": 52,
   "metadata": {
    "tags": []
   },
   "outputs": [
    {
     "data": {
      "text/plain": [
       "[<a class=\"sidemenu\" href=\"/senate/default.asp\">  Members  </a>,\n",
       " <a class=\"sidemenu\" href=\"/senate/committees/default.asp\">  Committees  </a>,\n",
       " <a class=\"sidemenu\" href=\"/senate/schedules/default.asp\">  Schedules  </a>,\n",
       " <a class=\"sidemenu\" href=\"/senate/journals/default.asp\">  Journals  </a>,\n",
       " <a class=\"sidemenu\" href=\"/senate/transcripts/default.asp\">  Transcripts  </a>]"
      ]
     },
     "execution_count": 52,
     "metadata": {},
     "output_type": "execute_result"
    }
   ],
   "source": [
    "# Obtener elementos con selector CSS «a.sidemenu».\n",
    "selected = soup.select(\"a.sidemenu\")\n",
    "selected[:5]"
   ]
  },
  {
   "cell_type": "markdown",
   "metadata": {},
   "source": [
    "## 🥊 Desafío: Encontrar todo\n",
    "\n",
    "Utiliza BeautifulSoup para encontrar todos los elementos `a` con clase `mainmenu`."
   ]
  },
  {
   "cell_type": "code",
   "execution_count": 58,
   "metadata": {},
   "outputs": [
    {
     "data": {
      "text/plain": [
       "[<a class=\"mainmenu\" href=\"/\">Home</a>,\n",
       " <a class=\"mainmenu\" href=\"/legislation/\" onblur=\"HM_f_PopDown('elMenu1')\" onfocus=\"HM_f_PopUp('elMenu1',event)\" onmouseout=\"HM_f_PopDown('elMenu1')\" onmouseover=\"HM_f_PopUp('elMenu1',event)\">Legislation &amp; Laws</a>,\n",
       " <a class=\"mainmenu\" href=\"/senate/\" onblur=\"HM_f_PopDown('elMenu3')\" onfocus=\"HM_f_PopUp('elMenu3',event)\" onmouseout=\"HM_f_PopDown('elMenu3')\" onmouseover=\"HM_f_PopUp('elMenu3',event)\">Senate</a>,\n",
       " <a class=\"mainmenu\" href=\"/house/\" onblur=\"HM_f_PopDown('elMenu2')\" onfocus=\"HM_f_PopUp('elMenu2',event)\" onmouseout=\"HM_f_PopDown('elMenu2')\" onmouseover=\"HM_f_PopUp('elMenu2',event)\">House</a>,\n",
       " <a class=\"mainmenu\" href=\"/mylegislation/\" onblur=\"HM_f_PopDown('elMenu4')\" onfocus=\"HM_f_PopUp('elMenu4',event)\" onmouseout=\"HM_f_PopDown('elMenu4')\" onmouseover=\"HM_f_PopUp('elMenu4',event)\">My Legislation</a>,\n",
       " <a class=\"mainmenu\" href=\"/sitemap.asp\">Site Map</a>]"
      ]
     },
     "execution_count": 58,
     "metadata": {},
     "output_type": "execute_result"
    }
   ],
   "source": [
    "# Obtener elementos con selector CSS «a.mainmenu».\n",
    "soup.select(\"a.mainmenu\")"
   ]
  },
  {
   "cell_type": "markdown",
   "metadata": {},
   "source": [
    "## Paso 4: Obtener atributos y texto de los elementos\n",
    "\n",
    "Una vez identificados los elementos, queremos la información de acceso a ese elemento. Normalmente, esto significa dos cosas\n",
    "\n",
    "1. Texto\n",
    "2. Atributos\n",
    "\n",
    "Obtener el texto dentro de un elemento es fácil. Todo lo que tenemos que hacer es utilizar el miembro `text` de un objeto `tag`:"
   ]
  },
  {
   "cell_type": "code",
   "execution_count": 61,
   "metadata": {
    "tags": []
   },
   "outputs": [
    {
     "name": "stdout",
     "output_type": "stream",
     "text": [
      "<a class=\"sidemenu\" href=\"/senate/default.asp\">  Members  </a>\n",
      "Class:  <class 'bs4.element.Tag'>\n"
     ]
    }
   ],
   "source": [
    "# Obtener todos los enlaces sidemenu como una lista\n",
    "side_menu_links = soup.select(\"a.sidemenu\")\n",
    "\n",
    "# Examinar el primer enlace\n",
    "first_link = side_menu_links[0]\n",
    "print(first_link)\n",
    "\n",
    "# ¿Qué clase es esta variable?\n",
    "print('Class: ', type(first_link))"
   ]
  },
  {
   "cell_type": "markdown",
   "metadata": {},
   "source": [
    "Es una etiqueta Beautiful Soup. Esto significa que tiene un miembro `text`:"
   ]
  },
  {
   "cell_type": "code",
   "execution_count": 64,
   "metadata": {
    "tags": []
   },
   "outputs": [
    {
     "name": "stdout",
     "output_type": "stream",
     "text": [
      "  Members  \n"
     ]
    }
   ],
   "source": [
    "print(first_link.text)"
   ]
  },
  {
   "cell_type": "markdown",
   "metadata": {},
   "source": [
    "A veces queremos el valor de ciertos atributos. Esto es particularmente relevante para las etiquetas `a`, o enlaces, donde el atributo `href` nos dice dónde va el enlace.\n",
    "\n",
    "💡 **Consejo**: Puedes acceder a los atributos de una etiqueta tratando la etiqueta como un diccionario:"
   ]
  },
  {
   "cell_type": "code",
   "execution_count": 67,
   "metadata": {
    "tags": []
   },
   "outputs": [
    {
     "name": "stdout",
     "output_type": "stream",
     "text": [
      "/senate/default.asp\n"
     ]
    }
   ],
   "source": [
    "print(first_link['href'])"
   ]
  },
  {
   "cell_type": "markdown",
   "metadata": {},
   "source": [
    "## 🥊 Reto: Extraer atributos específicos\n",
    "\n",
    "Extraer todos los atributos `href` de cada URL `mainmenu`."
   ]
  },
  {
   "cell_type": "code",
   "execution_count": 69,
   "metadata": {},
   "outputs": [
    {
     "data": {
      "text/plain": [
       "['/',\n",
       " '/legislation/',\n",
       " '/senate/',\n",
       " '/house/',\n",
       " '/mylegislation/',\n",
       " '/sitemap.asp']"
      ]
     },
     "execution_count": 69,
     "metadata": {},
     "output_type": "execute_result"
    }
   ],
   "source": [
    "[link['href'] for link in soup.select(\"a.mainmenu\")]"
   ]
  },
  {
   "cell_type": "markdown",
   "metadata": {},
   "source": [
    "<a id='scrape'></a>\n",
    "\n",
    "# Scraping de la Asamblea General de Illinois\n",
    "\n",
    "Lo creas o no, esas son realmente las herramientas fundamentales que necesitas para hacer scraping de un sitio web. Una vez que pasas más tiempo familiarizándote con HTML y CSS, entonces es simplemente una cuestión de entender la estructura de un sitio web en particular y aplicar inteligentemente las herramientas de Beautiful Soup y Python.\n",
    "\n",
    "Apliquemos estos conocimientos al scrapeo de la [98ª Asamblea General de Illinois](http://www.ilga.gov/senate/default.asp?GA=98).\n",
    "\n",
    "En concreto, nuestro objetivo es obtener información sobre cada senador, incluyendo su nombre, distrito y partido.## Raspar y Parsear la Página Web\n",
    "\n",
    "Vamos a raspar y analizar la página web, utilizando las herramientas que hemos aprendido en la sección anterior."
   ]
  },
  {
   "cell_type": "markdown",
   "metadata": {},
   "source": [
    "## Scrape and Soup the Webpage\n",
    "\n",
    "Let's scrape and parse the webpage, using the tools we learned in the previous section."
   ]
  },
  {
   "cell_type": "code",
   "execution_count": 73,
   "metadata": {
    "tags": []
   },
   "outputs": [],
   "source": [
    "# Realizar una petición GET\n",
    "req = requests.get('http://www.ilga.gov/senate/default.asp?GA=98')\n",
    "# Leer el contenido de la respuesta del servidor\n",
    "src = req.text\n",
    "# Ponerlo en formato soup\n",
    "soup = BeautifulSoup(src, \"lxml\")"
   ]
  },
  {
   "cell_type": "markdown",
   "metadata": {},
   "source": [
    "## Búsqueda de los elementos de la tabla\n",
    "\n",
    "Nuestro objetivo es obtener los elementos de la tabla en la página web. Recuerda: las filas se identifican con la etiqueta `tr`. Usemos `find_all` para obtener estos elementos."
   ]
  },
  {
   "cell_type": "code",
   "execution_count": 75,
   "metadata": {},
   "outputs": [
    {
     "data": {
      "text/plain": [
       "73"
      ]
     },
     "execution_count": 75,
     "metadata": {},
     "output_type": "execute_result"
    }
   ],
   "source": [
    "# Obtener todos los elementos de las filas de la tabla\n",
    "rows = soup.find_all(\"tr\")\n",
    "len(rows)"
   ]
  },
  {
   "cell_type": "markdown",
   "metadata": {},
   "source": [
    "⚠️ Advertencia: Tenga en cuenta: find_all obtiene todos los elementos con la etiqueta tr. Nosotros sólo queremos algunos de ellos. Si usamos la función 'Inspeccionar' de Google Chrome y miramos con atención, podemos usar algunos selectores CSS para obtener sólo las filas que nos interesan. En concreto, queremos las filas interiores de la tabla:"
   ]
  },
  {
   "cell_type": "code",
   "execution_count": 77,
   "metadata": {},
   "outputs": [
    {
     "name": "stdout",
     "output_type": "stream",
     "text": [
      "<tr><td colspan=\"5\">\n",
      "<span class=\"heading\">Illinois State Senators</span>\n",
      "<span class=\"italics\">  98th  General Assembly</span><br/>\n",
      "<!-- 3/2/09 temp comment out until fixed for GA specific-->\n",
      "<!-- add 97th ga currently no info -->\n",
      "<a href=\"98GA_Senate_Leadership.pdf\">Leadership</a> <a href=\"98th_Senate_Officers.pdf\">Officers</a> <a href=\"98GA_Senate_Seating_Chart.pdf\">Senate Seating Chart</a>  <span class=\"content\"><b>Democrats:</b> 40   <b>Republicans:</b> 19</span><br/>\n",
      "</td></tr> \n",
      "\n",
      "<tr>\n",
      "<td class=\"header\" width=\"45%\"><a class=\"filetab\" href=\"javascript:Sort('LastName','',98);\" title=\"Sort by Senator\">Senator</a></td>\n",
      "<td align=\"center\" class=\"header\" width=\"15%\">Bills</td>\n",
      "<td align=\"center\" class=\"header\" width=\"10%\">Committees</td>\n",
      "<td align=\"center\" class=\"header\" width=\"15%\"><a class=\"filetab\" href=\"javascript:Sort('DistrictNumber','',98);\" title=\"Sort by District\">District</a></td>\n",
      "<td align=\"center\" class=\"header\" width=\"15%\"><a class=\"filetab\" href=\"javascript:Sort('Party','',98);\" title=\"Sort by Party\">Party</a></td>\n",
      "</tr> \n",
      "\n",
      "<tr><td bgcolor=\"white\" class=\"detail\" width=\"40%\"><a class=\"notranslate\" href=\"/senate/Senator.asp?GA=98&amp;MemberID=1911\">Pamela J. Althoff</a></td><td align=\"center\" bgcolor=\"white\" class=\"detail\" width=\"15%\"><a href=\"SenatorBills.asp?GA=98&amp;MemberID=1911\">Bills</a></td><td align=\"center\" bgcolor=\"white\" class=\"detail\" width=\"15%\"><a href=\"SenCommittees.asp?GA=98&amp;MemberID=1911\">Committees</a></td><td align=\"center\" bgcolor=\"white\" class=\"detail\" width=\"15%\">32</td><td align=\"center\" bgcolor=\"white\" class=\"detail\" width=\"15%\">R</td></tr> \n",
      "\n",
      "<tr><td bgcolor=\"EBEBEB\" class=\"detail\" width=\"40%\"><a class=\"notranslate\" href=\"/senate/Senator.asp?GA=98&amp;MemberID=2018\">Jason A. Barickman</a></td><td align=\"center\" bgcolor=\"EBEBEB\" class=\"detail\" width=\"15%\"><a href=\"SenatorBills.asp?GA=98&amp;MemberID=2018\">Bills</a></td><td align=\"center\" bgcolor=\"EBEBEB\" class=\"detail\" width=\"15%\"><a href=\"SenCommittees.asp?GA=98&amp;MemberID=2018\">Committees</a></td><td align=\"center\" bgcolor=\"EBEBEB\" class=\"detail\" width=\"15%\">53</td><td align=\"center\" bgcolor=\"EBEBEB\" class=\"detail\" width=\"15%\">R</td></tr> \n",
      "\n",
      "<tr><td bgcolor=\"white\" class=\"detail\" width=\"40%\"><a class=\"notranslate\" href=\"/senate/Senator.asp?GA=98&amp;MemberID=2272\">Scott M Bennett</a></td><td align=\"center\" bgcolor=\"white\" class=\"detail\" width=\"15%\"><a href=\"SenatorBills.asp?GA=98&amp;MemberID=2272\">Bills</a></td><td align=\"center\" bgcolor=\"white\" class=\"detail\" width=\"15%\"><a href=\"SenCommittees.asp?GA=98&amp;MemberID=2272\">Committees</a></td><td align=\"center\" bgcolor=\"white\" class=\"detail\" width=\"15%\">52</td><td align=\"center\" bgcolor=\"white\" class=\"detail\" width=\"15%\">D</td></tr> \n",
      "\n"
     ]
    }
   ],
   "source": [
    "# Devuelve todos los selectores css 'tr tr tr' de la página\n",
    "rows = soup.select('tr tr tr')\n",
    "\n",
    "for row in rows[:5]:\n",
    "    print(row, '\\n')"
   ]
  },
  {
   "cell_type": "markdown",
   "metadata": {},
   "source": [
    "Parece que queremos todo después de las dos primeras filas. Vamos a trabajar con una sola fila para empezar, y construir nuestro bucle a partir de ahí."
   ]
  },
  {
   "cell_type": "code",
   "execution_count": 80,
   "metadata": {},
   "outputs": [
    {
     "name": "stdout",
     "output_type": "stream",
     "text": [
      "<tr>\n",
      " <td bgcolor=\"white\" class=\"detail\" width=\"40%\">\n",
      "  <a class=\"notranslate\" href=\"/senate/Senator.asp?GA=98&amp;MemberID=1911\">\n",
      "   Pamela J. Althoff\n",
      "  </a>\n",
      " </td>\n",
      " <td align=\"center\" bgcolor=\"white\" class=\"detail\" width=\"15%\">\n",
      "  <a href=\"SenatorBills.asp?GA=98&amp;MemberID=1911\">\n",
      "   Bills\n",
      "  </a>\n",
      " </td>\n",
      " <td align=\"center\" bgcolor=\"white\" class=\"detail\" width=\"15%\">\n",
      "  <a href=\"SenCommittees.asp?GA=98&amp;MemberID=1911\">\n",
      "   Committees\n",
      "  </a>\n",
      " </td>\n",
      " <td align=\"center\" bgcolor=\"white\" class=\"detail\" width=\"15%\">\n",
      "  32\n",
      " </td>\n",
      " <td align=\"center\" bgcolor=\"white\" class=\"detail\" width=\"15%\">\n",
      "  R\n",
      " </td>\n",
      "</tr>\n",
      "\n"
     ]
    }
   ],
   "source": [
    "example_row = rows[2]\n",
    "print(example_row.prettify())"
   ]
  },
  {
   "cell_type": "markdown",
   "metadata": {},
   "source": [
    "Vamos a descomponer esta fila en las celdas/columnas que la componen utilizando el método `select` con selectores CSS. Mirando de cerca el HTML, hay un par de maneras en que podríamos hacer esto.\n",
    "\n",
    "* Podríamos identificar las celdas por su etiqueta `td`.\n",
    "* Podríamos usar el nombre de clase `.detail`.\n",
    "* Podríamos combinar ambos y utilizar el selector `td.detail`."
   ]
  },
  {
   "cell_type": "code",
   "execution_count": 83,
   "metadata": {},
   "outputs": [
    {
     "name": "stdout",
     "output_type": "stream",
     "text": [
      "<td bgcolor=\"white\" class=\"detail\" width=\"40%\"><a class=\"notranslate\" href=\"/senate/Senator.asp?GA=98&amp;MemberID=1911\">Pamela J. Althoff</a></td>\n",
      "<td align=\"center\" bgcolor=\"white\" class=\"detail\" width=\"15%\"><a href=\"SenatorBills.asp?GA=98&amp;MemberID=1911\">Bills</a></td>\n",
      "<td align=\"center\" bgcolor=\"white\" class=\"detail\" width=\"15%\"><a href=\"SenCommittees.asp?GA=98&amp;MemberID=1911\">Committees</a></td>\n",
      "<td align=\"center\" bgcolor=\"white\" class=\"detail\" width=\"15%\">32</td>\n",
      "<td align=\"center\" bgcolor=\"white\" class=\"detail\" width=\"15%\">R</td>\n",
      "\n",
      "<td bgcolor=\"white\" class=\"detail\" width=\"40%\"><a class=\"notranslate\" href=\"/senate/Senator.asp?GA=98&amp;MemberID=1911\">Pamela J. Althoff</a></td>\n",
      "<td align=\"center\" bgcolor=\"white\" class=\"detail\" width=\"15%\"><a href=\"SenatorBills.asp?GA=98&amp;MemberID=1911\">Bills</a></td>\n",
      "<td align=\"center\" bgcolor=\"white\" class=\"detail\" width=\"15%\"><a href=\"SenCommittees.asp?GA=98&amp;MemberID=1911\">Committees</a></td>\n",
      "<td align=\"center\" bgcolor=\"white\" class=\"detail\" width=\"15%\">32</td>\n",
      "<td align=\"center\" bgcolor=\"white\" class=\"detail\" width=\"15%\">R</td>\n",
      "\n",
      "<td bgcolor=\"white\" class=\"detail\" width=\"40%\"><a class=\"notranslate\" href=\"/senate/Senator.asp?GA=98&amp;MemberID=1911\">Pamela J. Althoff</a></td>\n",
      "<td align=\"center\" bgcolor=\"white\" class=\"detail\" width=\"15%\"><a href=\"SenatorBills.asp?GA=98&amp;MemberID=1911\">Bills</a></td>\n",
      "<td align=\"center\" bgcolor=\"white\" class=\"detail\" width=\"15%\"><a href=\"SenCommittees.asp?GA=98&amp;MemberID=1911\">Committees</a></td>\n",
      "<td align=\"center\" bgcolor=\"white\" class=\"detail\" width=\"15%\">32</td>\n",
      "<td align=\"center\" bgcolor=\"white\" class=\"detail\" width=\"15%\">R</td>\n",
      "\n"
     ]
    }
   ],
   "source": [
    "for cell in example_row.select('td'):\n",
    "    print(cell)\n",
    "print()\n",
    "\n",
    "for cell in example_row.select('.detail'):\n",
    "    print(cell)\n",
    "print()\n",
    "\n",
    "for cell in example_row.select('td.detail'):\n",
    "    print(cell)\n",
    "print()"
   ]
  },
  {
   "cell_type": "markdown",
   "metadata": {},
   "source": [
    "Podemos confirmar que son todos iguales."
   ]
  },
  {
   "cell_type": "code",
   "execution_count": 86,
   "metadata": {
    "tags": []
   },
   "outputs": [],
   "source": [
    "assert example_row.select('td') == example_row.select('.detail') == example_row.select('td.detail')"
   ]
  },
  {
   "cell_type": "markdown",
   "metadata": {},
   "source": [
    "Utilicemos el selector `td.detail` para ser lo más específicos posible."
   ]
  },
  {
   "cell_type": "code",
   "execution_count": 89,
   "metadata": {},
   "outputs": [
    {
     "data": {
      "text/plain": [
       "[<td bgcolor=\"white\" class=\"detail\" width=\"40%\"><a class=\"notranslate\" href=\"/senate/Senator.asp?GA=98&amp;MemberID=1911\">Pamela J. Althoff</a></td>,\n",
       " <td align=\"center\" bgcolor=\"white\" class=\"detail\" width=\"15%\"><a href=\"SenatorBills.asp?GA=98&amp;MemberID=1911\">Bills</a></td>,\n",
       " <td align=\"center\" bgcolor=\"white\" class=\"detail\" width=\"15%\"><a href=\"SenCommittees.asp?GA=98&amp;MemberID=1911\">Committees</a></td>,\n",
       " <td align=\"center\" bgcolor=\"white\" class=\"detail\" width=\"15%\">32</td>,\n",
       " <td align=\"center\" bgcolor=\"white\" class=\"detail\" width=\"15%\">R</td>]"
      ]
     },
     "execution_count": 89,
     "metadata": {},
     "output_type": "execute_result"
    }
   ],
   "source": [
    "# Seleccionar sólo las etiquetas 'td' con clase 'detail'\n",
    "detail_cells = example_row.select('td.detail')\n",
    "detail_cells"
   ]
  },
  {
   "cell_type": "markdown",
   "metadata": {},
   "source": [
    "La mayoría de las veces, nos interesa el **texto** real de un sitio web, no sus etiquetas. Recuerda que para obtener el texto de un elemento HTML, utilizamos el miembro `text`:"
   ]
  },
  {
   "cell_type": "code",
   "execution_count": 92,
   "metadata": {},
   "outputs": [
    {
     "name": "stdout",
     "output_type": "stream",
     "text": [
      "['Pamela J. Althoff', 'Bills', 'Committees', '32', 'R']\n"
     ]
    }
   ],
   "source": [
    "# Mantener sólo el texto en cada una de esas celdas\n",
    "row_data = [cell.text for cell in detail_cells]\n",
    "\n",
    "print(row_data)"
   ]
  },
  {
   "cell_type": "markdown",
   "metadata": {},
   "source": [
    "¡Tiene buena pinta! Ahora sólo tenemos que utilizar nuestros conocimientos básicos de Python para obtener los elementos de esta lista que queremos. Recuerda, queremos el nombre del senador, su distrito y su partido."
   ]
  },
  {
   "cell_type": "code",
   "execution_count": 94,
   "metadata": {},
   "outputs": [
    {
     "name": "stdout",
     "output_type": "stream",
     "text": [
      "Pamela J. Althoff\n",
      "32\n",
      "R\n"
     ]
    }
   ],
   "source": [
    "print(row_data[0]) # Nombre\n",
    "print(row_data[3]) # Distrito\n",
    "print(row_data[4]) # Partido"
   ]
  },
  {
   "cell_type": "markdown",
   "metadata": {},
   "source": [
    "## Deshacerse de las filas basura\n",
    "\n",
    "Vimos al principio que no todas las filas que obtuvimos corresponden realmente a un senador. Tendremos que hacer algo de limpieza antes de seguir adelante. Echa un vistazo a algunos ejemplos:"
   ]
  },
  {
   "cell_type": "code",
   "execution_count": 97,
   "metadata": {},
   "outputs": [
    {
     "name": "stdout",
     "output_type": "stream",
     "text": [
      "Row 0:\n",
      " <tr><td colspan=\"5\">\n",
      "<span class=\"heading\">Illinois State Senators</span>\n",
      "<span class=\"italics\">  98th  General Assembly</span><br/>\n",
      "<!-- 3/2/09 temp comment out until fixed for GA specific-->\n",
      "<!-- add 97th ga currently no info -->\n",
      "<a href=\"98GA_Senate_Leadership.pdf\">Leadership</a> <a href=\"98th_Senate_Officers.pdf\">Officers</a> <a href=\"98GA_Senate_Seating_Chart.pdf\">Senate Seating Chart</a>  <span class=\"content\"><b>Democrats:</b> 40   <b>Republicans:</b> 19</span><br/>\n",
      "</td></tr> \n",
      "\n",
      "Row 1:\n",
      " <tr>\n",
      "<td class=\"header\" width=\"45%\"><a class=\"filetab\" href=\"javascript:Sort('LastName','',98);\" title=\"Sort by Senator\">Senator</a></td>\n",
      "<td align=\"center\" class=\"header\" width=\"15%\">Bills</td>\n",
      "<td align=\"center\" class=\"header\" width=\"10%\">Committees</td>\n",
      "<td align=\"center\" class=\"header\" width=\"15%\"><a class=\"filetab\" href=\"javascript:Sort('DistrictNumber','',98);\" title=\"Sort by District\">District</a></td>\n",
      "<td align=\"center\" class=\"header\" width=\"15%\"><a class=\"filetab\" href=\"javascript:Sort('Party','',98);\" title=\"Sort by Party\">Party</a></td>\n",
      "</tr> \n",
      "\n",
      "Last Row:\n",
      " <tr>\n",
      "<td align=\"left\" class=\"footer\" width=\"107\">  <img alt=\"Legislative Information System logo\" height=\"45\" src=\"/images/lislogo.jpg\" width=\"100\"/></td>\n",
      "<td align=\"\" class=\"footer\" valign=\"top\" width=\"100%\">This site is maintained for the Illinois General Assembly \n",
      "by the<br/>Legislative Information System, 705 Stratton Building, Springfield, Illinois 62706<br/>\n",
      "<a class=\"links\" href=\"mailto:webmaster@ilga.gov?subject=Email from ILGA Web\" style=\"font-size:8px\">\n",
      "      Contact ILGA Webmaster</a>\n",
      "</td>\n",
      "</tr>\n"
     ]
    }
   ],
   "source": [
    "print('Row 0:\\n', rows[0], '\\n')\n",
    "print('Row 1:\\n', rows[1], '\\n')\n",
    "print('Last Row:\\n', rows[-1])"
   ]
  },
  {
   "cell_type": "markdown",
   "metadata": {},
   "source": [
    "Cuando escribimos nuestro bucle for, sólo queremos que se aplique a las filas relevantes. Así que tendremos que filtrar las filas irrelevantes. La forma de hacerlo es comparar algunas de ellas con las filas que queremos, ver en qué se diferencian y formularlo en una condicional.\n",
    "\n",
    "Como puedes imaginar, hay muchas formas posibles de hacer esto, y dependerá del sitio web. Mostraremos algunas aquí para darte una idea de cómo hacerlo."
   ]
  },
  {
   "cell_type": "code",
   "execution_count": 99,
   "metadata": {},
   "outputs": [
    {
     "name": "stdout",
     "output_type": "stream",
     "text": [
      "1\n",
      "11\n",
      "5\n",
      "5\n"
     ]
    }
   ],
   "source": [
    "# Filas malas\n",
    "print(len(rows[0]))\n",
    "print(len(rows[1]))\n",
    "\n",
    "# Filas buenas\n",
    "print(len(rows[2]))\n",
    "print(len(rows[3]))"
   ]
  },
  {
   "cell_type": "markdown",
   "metadata": {},
   "source": [
    "Quizá las filas buenas tengan una longitud de 5. Comprobémoslo:"
   ]
  },
  {
   "cell_type": "code",
   "execution_count": 101,
   "metadata": {},
   "outputs": [
    {
     "name": "stdout",
     "output_type": "stream",
     "text": [
      "<tr><td bgcolor=\"white\" class=\"detail\" width=\"40%\"><a class=\"notranslate\" href=\"/senate/Senator.asp?GA=98&amp;MemberID=1911\">Pamela J. Althoff</a></td><td align=\"center\" bgcolor=\"white\" class=\"detail\" width=\"15%\"><a href=\"SenatorBills.asp?GA=98&amp;MemberID=1911\">Bills</a></td><td align=\"center\" bgcolor=\"white\" class=\"detail\" width=\"15%\"><a href=\"SenCommittees.asp?GA=98&amp;MemberID=1911\">Committees</a></td><td align=\"center\" bgcolor=\"white\" class=\"detail\" width=\"15%\">32</td><td align=\"center\" bgcolor=\"white\" class=\"detail\" width=\"15%\">R</td></tr> \n",
      "\n",
      "<tr><td bgcolor=\"white\" class=\"detail\" width=\"40%\"><a class=\"notranslate\" href=\"/senate/Senator.asp?GA=98&amp;MemberID=2035\">Patricia Van Pelt</a></td><td align=\"center\" bgcolor=\"white\" class=\"detail\" width=\"15%\"><a href=\"SenatorBills.asp?GA=98&amp;MemberID=2035\">Bills</a></td><td align=\"center\" bgcolor=\"white\" class=\"detail\" width=\"15%\"><a href=\"SenCommittees.asp?GA=98&amp;MemberID=2035\">Committees</a></td><td align=\"center\" bgcolor=\"white\" class=\"detail\" width=\"15%\">5</td><td align=\"center\" bgcolor=\"white\" class=\"detail\" width=\"15%\">D</td></tr> \n",
      "\n",
      "<tr>\n",
      "<td align=\"left\" class=\"footer\" width=\"107\">  <img alt=\"Legislative Information System logo\" height=\"45\" src=\"/images/lislogo.jpg\" width=\"100\"/></td>\n",
      "<td align=\"\" class=\"footer\" valign=\"top\" width=\"100%\">This site is maintained for the Illinois General Assembly \n",
      "by the<br/>Legislative Information System, 705 Stratton Building, Springfield, Illinois 62706<br/>\n",
      "<a class=\"links\" href=\"mailto:webmaster@ilga.gov?subject=Email from ILGA Web\" style=\"font-size:8px\">\n",
      "      Contact ILGA Webmaster</a>\n",
      "</td>\n",
      "</tr>\n"
     ]
    }
   ],
   "source": [
    "good_rows = [row for row in rows if len(row) == 5]\n",
    "\n",
    "# Comprobemos algunas filas\n",
    "print(good_rows[0], '\\n')\n",
    "print(good_rows[-2], '\\n')\n",
    "print(good_rows[-1])"
   ]
  },
  {
   "cell_type": "markdown",
   "metadata": {},
   "source": [
    "Hemos encontrado una fila a pie de página en nuestra lista que nos gustaría evitar. Probemos otra cosa:"
   ]
  },
  {
   "cell_type": "code",
   "execution_count": 103,
   "metadata": {},
   "outputs": [
    {
     "data": {
      "text/plain": [
       "[<td bgcolor=\"white\" class=\"detail\" width=\"40%\"><a class=\"notranslate\" href=\"/senate/Senator.asp?GA=98&amp;MemberID=1911\">Pamela J. Althoff</a></td>,\n",
       " <td align=\"center\" bgcolor=\"white\" class=\"detail\" width=\"15%\"><a href=\"SenatorBills.asp?GA=98&amp;MemberID=1911\">Bills</a></td>,\n",
       " <td align=\"center\" bgcolor=\"white\" class=\"detail\" width=\"15%\"><a href=\"SenCommittees.asp?GA=98&amp;MemberID=1911\">Committees</a></td>,\n",
       " <td align=\"center\" bgcolor=\"white\" class=\"detail\" width=\"15%\">32</td>,\n",
       " <td align=\"center\" bgcolor=\"white\" class=\"detail\" width=\"15%\">R</td>]"
      ]
     },
     "execution_count": 103,
     "metadata": {},
     "output_type": "execute_result"
    }
   ],
   "source": [
    "rows[2].select('td.detail') "
   ]
  },
  {
   "cell_type": "code",
   "execution_count": 105,
   "metadata": {
    "scrolled": true
   },
   "outputs": [
    {
     "name": "stdout",
     "output_type": "stream",
     "text": [
      "[] \n",
      "\n",
      "[<td bgcolor=\"EBEBEB\" class=\"detail\" width=\"40%\"><a class=\"notranslate\" href=\"/senate/Senator.asp?GA=98&amp;MemberID=2022\">Jennifer Bertino-Tarrant</a></td>, <td align=\"center\" bgcolor=\"EBEBEB\" class=\"detail\" width=\"15%\"><a href=\"SenatorBills.asp?GA=98&amp;MemberID=2022\">Bills</a></td>, <td align=\"center\" bgcolor=\"EBEBEB\" class=\"detail\" width=\"15%\"><a href=\"SenCommittees.asp?GA=98&amp;MemberID=2022\">Committees</a></td>, <td align=\"center\" bgcolor=\"EBEBEB\" class=\"detail\" width=\"15%\">49</td>, <td align=\"center\" bgcolor=\"EBEBEB\" class=\"detail\" width=\"15%\">D</td>] \n",
      "\n",
      "Checking rows...\n",
      "\n",
      "<tr><td bgcolor=\"white\" class=\"detail\" width=\"40%\"><a class=\"notranslate\" href=\"/senate/Senator.asp?GA=98&amp;MemberID=1911\">Pamela J. Althoff</a></td><td align=\"center\" bgcolor=\"white\" class=\"detail\" width=\"15%\"><a href=\"SenatorBills.asp?GA=98&amp;MemberID=1911\">Bills</a></td><td align=\"center\" bgcolor=\"white\" class=\"detail\" width=\"15%\"><a href=\"SenCommittees.asp?GA=98&amp;MemberID=1911\">Committees</a></td><td align=\"center\" bgcolor=\"white\" class=\"detail\" width=\"15%\">32</td><td align=\"center\" bgcolor=\"white\" class=\"detail\" width=\"15%\">R</td></tr> \n",
      "\n",
      "<tr><td bgcolor=\"white\" class=\"detail\" width=\"40%\"><a class=\"notranslate\" href=\"/senate/Senator.asp?GA=98&amp;MemberID=2035\">Patricia Van Pelt</a></td><td align=\"center\" bgcolor=\"white\" class=\"detail\" width=\"15%\"><a href=\"SenatorBills.asp?GA=98&amp;MemberID=2035\">Bills</a></td><td align=\"center\" bgcolor=\"white\" class=\"detail\" width=\"15%\"><a href=\"SenCommittees.asp?GA=98&amp;MemberID=2035\">Committees</a></td><td align=\"center\" bgcolor=\"white\" class=\"detail\" width=\"15%\">5</td><td align=\"center\" bgcolor=\"white\" class=\"detail\" width=\"15%\">D</td></tr>\n"
     ]
    }
   ],
   "source": [
    "# Fila mala\n",
    "print(rows[-1].select('td.detail'), '\\n')\n",
    "\n",
    "# Fila buena\n",
    "print(rows[5].select('td.detail'), '\\n')\n",
    "\n",
    "# ¿Qué tal esto?\n",
    "good_rows = [row for row in rows if row.select('td.detail')]\n",
    "\n",
    "print(\"Checking rows...\\n\")\n",
    "print(good_rows[0], '\\n')\n",
    "print(good_rows[-1])"
   ]
  },
  {
   "cell_type": "markdown",
   "metadata": {},
   "source": [
    "Parece que hemos encontrado algo que ha funcionado."
   ]
  },
  {
   "cell_type": "markdown",
   "metadata": {},
   "source": [
    "## Unir todo en un bucle\n",
    "\n",
    "Ahora que hemos visto cómo obtener los datos que queremos de una fila, así como filtrar las filas que no queremos, vamos a ponerlo todo junto en un bucle."
   ]
  },
  {
   "cell_type": "code",
   "execution_count": 108,
   "metadata": {
    "tags": []
   },
   "outputs": [],
   "source": [
    "# Definir lista de almacenamiento\n",
    "members = []\n",
    "\n",
    "# Deshazte de las filas basura\n",
    "valid_rows = [row for row in rows if row.select('td.detail')]\n",
    "\n",
    "# Recorrer todas las filas\n",
    "for row in valid_rows:\n",
    "    # Seleccionar sólo las etiquetas 'td' con clase 'detail\n",
    "    detail_cells = row.select('td.detail')\n",
    "    # Mantener sólo el texto en cada una de esas celdas\n",
    "    row_data = [cell.text for cell in detail_cells]\n",
    "    # Recopilar información\n",
    "    name = row_data[0]\n",
    "    district = int(row_data[3])\n",
    "    party = row_data[4]\n",
    "    # Almacenar en una tupla\n",
    "    senator = (name, district, party)\n",
    "    # Añadir a la lista\n",
    "    members.append(senator)"
   ]
  },
  {
   "cell_type": "code",
   "execution_count": 110,
   "metadata": {},
   "outputs": [
    {
     "data": {
      "text/plain": [
       "61"
      ]
     },
     "execution_count": 110,
     "metadata": {},
     "output_type": "execute_result"
    }
   ],
   "source": [
    "# Debería ser 61\n",
    "len(members)"
   ]
  },
  {
   "cell_type": "markdown",
   "metadata": {},
   "source": [
    "Echemos un vistazo a lo que tenemos en `members`."
   ]
  },
  {
   "cell_type": "code",
   "execution_count": 112,
   "metadata": {},
   "outputs": [
    {
     "name": "stdout",
     "output_type": "stream",
     "text": [
      "[('Pamela J. Althoff', 32, 'R'), ('Jason A. Barickman', 53, 'R'), ('Scott M Bennett', 52, 'D'), ('Jennifer Bertino-Tarrant', 49, 'D'), ('Daniel Biss', 9, 'D')]\n"
     ]
    }
   ],
   "source": [
    "print(members[:5])"
   ]
  },
  {
   "cell_type": "markdown",
   "metadata": {},
   "source": [
    "## 🥊  Desafío: Obtener elementos `href` que apunten a las facturas de los afiliados  \n",
    "\n",
    "El código anterior recupera información sobre:  \n",
    "\n",
    "- el nombre del senador,\n",
    "- su número de distrito,\n",
    "- y su partido.\n",
    "\n",
    "Ahora queremos recuperar la URL de la lista de proyectos de ley de cada senador. Cada URL seguirá un formato específico.  \n",
    "\n",
    "El formato de la lista de proyectos de ley para un senador determinado es:\n",
    "\n",
    "`http://www.ilga.gov/senate/SenatorBills.asp?GA=98&MemberID=[MEMBER_ID]&Primary=True`\n",
    "\n",
    "para obtener algo como:\n",
    "\n",
    "`http://www.ilga.gov/senate/SenatorBills.asp?MemberID=1911&GA=98&Primary=True`\n",
    "\n",
    "en el que `MEMBER_ID=1911`. \n",
    "\n",
    "Debería poder ver que, desafortunadamente, `MEMBER_ID` no es actualmente algo que se extraiga en nuestro código de raspado.\n",
    "\n",
    "Tu tarea inicial es modificar el código anterior para que también **recuperemos la URL completa que apunta a la página correspondiente de los proyectos de ley patrocinados por los partidos**, para cada miembro, y la devolvamos junto con su nombre, distrito y partido.\n",
    "\n",
    "Consejos: \n",
    "\n",
    "* Para ello, querrás obtener el elemento de anclaje apropiado (`<a>`) en cada fila de legisladores de la tabla. Puedes utilizar de nuevo el método `.select()` en el objeto `row` en el bucle para hacer esto - similar al comando que encuentra todas las celdas `td.detail` en la fila. Recuerda que sólo queremos el enlace a los proyectos de ley del legislador, no a los comités ni a la página de perfil del legislador.\n",
    "* El HTML de los elementos de anclaje se verá como `<a href=«/senate/Senator.asp/...»>Bills</a>`. La cadena del atributo `href` contiene el enlace **relativo** que buscamos. Puedes acceder a un atributo de un objeto `Tag` de BeatifulSoup de la misma forma que accedes a un diccionario de Python: `anchor['attributeName']`. Consulte la <a href=«http://www.crummy.com/software/BeautifulSoup/bs4/doc/#tag»>documentación</a> para obtener más detalles.\n",
    "* Hay un _lot_ de maneras diferentes de utilizar BeautifulSoup para hacer las cosas. lo que usted necesita hacer para sacar el `href` está bien.\n",
    "\n",
    "El código ha sido parcialmente rellenado para usted. Rellénalo donde dice `#TU CÓDIGO AQUÍ`. Guarda la ruta en un objeto llamado `full_path`."
   ]
  },
  {
   "cell_type": "code",
   "execution_count": 117,
   "metadata": {
    "tags": []
   },
   "outputs": [],
   "source": [
    "# Realizar una solicitud GET\n",
    "req = requests.get('http://www.ilga.gov/senate/default.asp?GA=98')\n",
    "# Leer el contenido de la respuesta del servidor\n",
    "src = req.text\n",
    "# Soup it\n",
    "soup = BeautifulSoup(src, \"lxml\")\n",
    "# Crear una lista vacía para almacenar nuestros datos\n",
    "members = []\n",
    "\n",
    "# Devuelve todos los selectores css 'tr tr tr' de la página\n",
    "rows = soup.select('tr tr tr')\n",
    "# Deshacerse de las filas basura\n",
    "rows = [row for row in rows if row.select('td.detail')]\n",
    "\n",
    "# Recorrer todas las filas\n",
    "for row in rows:\n",
    "    # Seleccionar sólo las etiquetas 'td' con clase 'detail'\n",
    "    detail_cells = row.select('td.detail') \n",
    "    # Conserva sólo el texto de cada una de esas celdas\n",
    "    row_data = [cell.text for cell in detail_cells]\n",
    "    # Recopilar información\n",
    "    name = row_data[0]\n",
    "    district = int(row_data[3])\n",
    "    party = row_data[4]\n",
    "\n",
    "    # TU CÓDIGO AQUÍ\n",
    "    # Extraer href\n",
    "    href = row.select('a')[1]['href']\n",
    "    # Crear ruta completa\n",
    "    full_path = \"http://www.ilga.gov/senate/\" + href + \"&Primary=True\"\n",
    "\n",
    "    # Almacenar en una tupla\n",
    "    senator = (name, district, party, full_path)\n",
    "    # Añadir a la lista\n",
    "    members.append(senator)"
   ]
  },
  {
   "cell_type": "code",
   "execution_count": 119,
   "metadata": {
    "tags": []
   },
   "outputs": [
    {
     "data": {
      "text/plain": [
       "[('Pamela J. Althoff',\n",
       "  32,\n",
       "  'R',\n",
       "  'http://www.ilga.gov/senate/SenatorBills.asp?GA=98&MemberID=1911&Primary=True'),\n",
       " ('Jason A. Barickman',\n",
       "  53,\n",
       "  'R',\n",
       "  'http://www.ilga.gov/senate/SenatorBills.asp?GA=98&MemberID=2018&Primary=True'),\n",
       " ('Scott M Bennett',\n",
       "  52,\n",
       "  'D',\n",
       "  'http://www.ilga.gov/senate/SenatorBills.asp?GA=98&MemberID=2272&Primary=True'),\n",
       " ('Jennifer Bertino-Tarrant',\n",
       "  49,\n",
       "  'D',\n",
       "  'http://www.ilga.gov/senate/SenatorBills.asp?GA=98&MemberID=2022&Primary=True'),\n",
       " ('Daniel Biss',\n",
       "  9,\n",
       "  'D',\n",
       "  'http://www.ilga.gov/senate/SenatorBills.asp?GA=98&MemberID=2020&Primary=True')]"
      ]
     },
     "execution_count": 119,
     "metadata": {},
     "output_type": "execute_result"
    }
   ],
   "source": [
    "members[:5]"
   ]
  },
  {
   "cell_type": "markdown",
   "metadata": {},
   "source": [
    "## 🥊  Desafío: Modularice su código\n",
    "\n",
    "Convierta el código anterior en una función que acepte una URL, rastree la URL en busca de sus senadores y devuelva una lista de tuplas con información sobre cada senador. "
   ]
  },
  {
   "cell_type": "code",
   "execution_count": 121,
   "metadata": {
    "tags": []
   },
   "outputs": [],
   "source": [
    "# TU CÓDIGO AQUÍ\n",
    "def get_members(url):\n",
    "    # Hacer una petición GET\n",
    "    req = requests.get(url)\n",
    "    # Leer el contenido de la respuesta del servidor\n",
    "    src = req.text\n",
    "    # Soup it\n",
    "    soup = BeautifulSoup(src, \"lxml\")\n",
    "    # Crear una lista vacía para almacenar nuestros datos\n",
    "    members = []\n",
    "\n",
    "    # Devuelve todos los selectores css 'tr tr tr' de la página\n",
    "    rows = soup.select('tr tr tr')\n",
    "    # Deshacerse de las filas basura\n",
    "    rows = [row for row in rows if row.select('td.detail')]\n",
    "\n",
    "    # Recorrer todas las filas\n",
    "    for row in rows:\n",
    "        # Seleccionar sólo las etiquetas 'td' con clase 'detail\n",
    "        detail_cells = row.select('td.detail') \n",
    "        # Mantener sólo el texto en cada una de esas celdas\n",
    "        row_data = [cell.text for cell in detail_cells]\n",
    "        # Recoger información\n",
    "        name = row_data[0]\n",
    "        district = int(row_data[3])\n",
    "        party = row_data[4]\n",
    "\n",
    "        # Extraer href\n",
    "        href = row.select('a')[1]['href']\n",
    "        # Crear ruta completa\n",
    "        full_path = \"http://www.ilga.gov/senate/\" + href + \"&Primary=True\"\n",
    "\n",
    "        # Almacenar en una tupla\n",
    "        senator = (name, district, party, full_path)\n",
    "        # Añadir a la lista\n",
    "        members.append(senator)\n",
    "    return(members)\n"
   ]
  },
  {
   "cell_type": "code",
   "execution_count": 123,
   "metadata": {
    "tags": []
   },
   "outputs": [
    {
     "data": {
      "text/plain": [
       "61"
      ]
     },
     "execution_count": 123,
     "metadata": {},
     "output_type": "execute_result"
    }
   ],
   "source": [
    "# Probar el código\n",
    "url = 'http://www.ilga.gov/senate/default.asp?GA=98'\n",
    "senate_members = get_members(url)\n",
    "len(senate_members)"
   ]
  },
  {
   "cell_type": "markdown",
   "metadata": {},
   "source": [
    "## 🥊 Reto para llevar a casa: Escribir una función rascadora\n",
    "\n",
    "Queremos raspar las páginas web correspondientes a los proyectos de ley patrocinados por cada uno de ellos.\n",
    "\n",
    "Escribe una función llamada `get_bills(url)` para analizar una URL de proyecto de ley dada. Esto implicará:\n",
    "\n",
    "  - solicitando la URL mediante la biblioteca <a href=\"http://docs.python-requests.org/en/latest/\">`requests`</a>.\n",
    "  - utilizando las características de la biblioteca `BeautifulSoup` para encontrar todos los elementos `<td>` con la clase `billlist`.\n",
    "  - devuelve una _lista_ de tuplas, cada una con:\n",
    "      - descripción (2ª columna)\n",
    "      - cámara (S o H) (3ª columna)\n",
    "      - la última acción (4ª columna)\n",
    "      - fecha de la última acción (5ª columna)\n",
    "      \n",
    "Esta función se ha completado parcialmente. Rellene el resto."
   ]
  },
  {
   "cell_type": "code",
   "execution_count": 132,
   "metadata": {
    "tags": []
   },
   "outputs": [],
   "source": [
    "def get_bills(url):\n",
    "    src = requests.get(url).text\n",
    "    soup = BeautifulSoup(src)\n",
    "    rows = soup.select('tr')\n",
    "    bills = []\n",
    "    for row in rows:\n",
    "        # Obtener todas las celdas de la lista de facturas\n",
    "        cells = row.select('td.billlist')\n",
    "        # Hay que tener en cuenta que el nombre del senador no es una clase de lista de proyectos de ley.\n",
    "        if len(cells) == 5:\n",
    "            row_text = [cell.text for cell in cells]\n",
    "            # Extraer información del texto de las filas\n",
    "            bill_id = row_text[0]\n",
    "            description = row_text[1]\n",
    "            chamber = row_text[2]\n",
    "            last_action = row_text[3]\n",
    "            last_action_date = row_text[4]\n",
    "            # Consolidar información sobre proyecto de ley\n",
    "            bill = (bill_id, description, chamber, last_action, last_action_date)\n",
    "            bills.append(bill)\n",
    "    return bills"
   ]
  },
  {
   "cell_type": "code",
   "execution_count": 134,
   "metadata": {
    "tags": []
   },
   "outputs": [
    {
     "data": {
      "text/plain": [
       "[('SB27', 'MEDICAID BUDGET NOTE ACT', 'S', 'Session Sine Die', '1/13/2015'),\n",
       " ('SB28',\n",
       "  'HOMELESS VETERANS SHELTER ACT',\n",
       "  'S',\n",
       "  'Session Sine Die',\n",
       "  '1/13/2015'),\n",
       " ('SB29', 'ROAD FUND-NO TRANSFERS', 'S', 'Session Sine Die', '1/13/2015'),\n",
       " ('SB33',\n",
       "  'EPA-RULES-DOCUMENT SUBMISSION',\n",
       "  'S',\n",
       "  'Public Act . . . . . . . . . 98-0072',\n",
       "  '7/15/2013'),\n",
       " ('SB104',\n",
       "  'MIN WAGE-OVERTIME-ALTERN SHIFT',\n",
       "  'S',\n",
       "  'Session Sine Die',\n",
       "  '1/13/2015')]"
      ]
     },
     "execution_count": 134,
     "metadata": {},
     "output_type": "execute_result"
    }
   ],
   "source": [
    "# Probando código\n",
    "test_url = senate_members[0][3]\n",
    "get_bills(test_url)[0:5]"
   ]
  },
  {
   "cell_type": "markdown",
   "metadata": {},
   "source": [
    "### Rechazar todos los proyectos de ley\n",
    "\n",
    "Por último, crea un diccionario `bills_dict` que asigne un número de distrito (la clave) a una lista de proyectos de ley (el valor) procedentes de ese distrito. Puedes hacerlo recorriendo todos los miembros del senado en `members_dict` y llamando a `get_bills()` para cada una de sus URLs de proyectos de ley asociadas.\n",
    "\n",
    "**NOTA:** por favor llama a la función `time.sleep(1)` en cada iteración del bucle, para que no destruyamos la web del estado."
   ]
  },
  {
   "cell_type": "code",
   "execution_count": 137,
   "metadata": {
    "tags": []
   },
   "outputs": [],
   "source": [
    "bills_dict = {}\n",
    "for member in senate_members[:5]:\n",
    "    bills_dict[member[1]] = get_bills(member[3])\n",
    "    time.sleep(1)"
   ]
  },
  {
   "cell_type": "code",
   "execution_count": 138,
   "metadata": {
    "tags": []
   },
   "outputs": [
    {
     "data": {
      "text/plain": [
       "[('SR1730',\n",
       "  'MEMORIAL - THOMAS G. HAYS',\n",
       "  'S',\n",
       "  'Resolution Adopted',\n",
       "  '1/13/2015'),\n",
       " ('SR1730',\n",
       "  'MEMORIAL - THOMAS G. HAYS',\n",
       "  'S',\n",
       "  'Resolution Adopted',\n",
       "  '1/13/2015'),\n",
       " ('SR1730',\n",
       "  'MEMORIAL - THOMAS G. HAYS',\n",
       "  'S',\n",
       "  'Resolution Adopted',\n",
       "  '1/13/2015')]"
      ]
     },
     "execution_count": 138,
     "metadata": {},
     "output_type": "execute_result"
    }
   ],
   "source": [
    "bills_dict[52]"
   ]
  },
  {
   "cell_type": "code",
   "execution_count": null,
   "metadata": {},
   "outputs": [],
   "source": []
  }
 ],
 "metadata": {
  "anaconda-cloud": {},
  "kernelspec": {
   "display_name": "Python 3 (ipykernel)",
   "language": "python",
   "name": "python3"
  },
  "language_info": {
   "codemirror_mode": {
    "name": "ipython",
    "version": 3
   },
   "file_extension": ".py",
   "mimetype": "text/x-python",
   "name": "python",
   "nbconvert_exporter": "python",
   "pygments_lexer": "ipython3",
   "version": "3.12.7"
  },
  "vscode": {
   "interpreter": {
    "hash": "b6f9fe9f4b7182690503d8ecc2bae97b0ee3ebf54e877167ae4d28c119a56988"
   }
  }
 },
 "nbformat": 4,
 "nbformat_minor": 4
}
